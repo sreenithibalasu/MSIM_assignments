{
 "cells": [
  {
   "cell_type": "markdown",
   "metadata": {},
   "source": [
    "## Assignment 4\n",
    "\n",
    "Your assignment is to write up a set of comparisons for constructing the same visualization. You must evaluate **matplotlib, vega-lite and bqplot**, and you can choose one of the following in addition: D3, Bokeh, Plotly, R/RStudio. \n",
    "\n",
    "These comparisons should be:\n",
    "\n",
    "- What is the license for the software?\n",
    "- What is the focus of the software?\n",
    "- Does it have interactivity, and how easy is it?\n",
    "- What are the pros and cons of using it?\n",
    "\n",
    "These should total roughly half a page per engine.\n",
    "\n"
   ]
  },
  {
   "cell_type": "code",
   "execution_count": 1,
   "metadata": {},
   "outputs": [],
   "source": [
    "import pandas as pd\n",
    "import numpy as np\n",
    "import matplotlib.pyplot as plt\n",
    "import datetime as dt\n",
    "\n",
    "%matplotlib inline"
   ]
  },
  {
   "cell_type": "code",
   "execution_count": 2,
   "metadata": {},
   "outputs": [],
   "source": [
    "df = pd.read_csv('./seattle-weather.csv')"
   ]
  },
  {
   "cell_type": "code",
   "execution_count": 3,
   "metadata": {},
   "outputs": [
    {
     "data": {
      "text/html": [
       "<div>\n",
       "<style scoped>\n",
       "    .dataframe tbody tr th:only-of-type {\n",
       "        vertical-align: middle;\n",
       "    }\n",
       "\n",
       "    .dataframe tbody tr th {\n",
       "        vertical-align: top;\n",
       "    }\n",
       "\n",
       "    .dataframe thead th {\n",
       "        text-align: right;\n",
       "    }\n",
       "</style>\n",
       "<table border=\"1\" class=\"dataframe\">\n",
       "  <thead>\n",
       "    <tr style=\"text-align: right;\">\n",
       "      <th></th>\n",
       "      <th>date</th>\n",
       "      <th>precipitation</th>\n",
       "      <th>temp_max</th>\n",
       "      <th>temp_min</th>\n",
       "      <th>wind</th>\n",
       "      <th>weather</th>\n",
       "    </tr>\n",
       "  </thead>\n",
       "  <tbody>\n",
       "    <tr>\n",
       "      <th>0</th>\n",
       "      <td>2012-01-01</td>\n",
       "      <td>0.0</td>\n",
       "      <td>12.8</td>\n",
       "      <td>5.0</td>\n",
       "      <td>4.7</td>\n",
       "      <td>drizzle</td>\n",
       "    </tr>\n",
       "    <tr>\n",
       "      <th>1</th>\n",
       "      <td>2012-01-02</td>\n",
       "      <td>10.9</td>\n",
       "      <td>10.6</td>\n",
       "      <td>2.8</td>\n",
       "      <td>4.5</td>\n",
       "      <td>rain</td>\n",
       "    </tr>\n",
       "    <tr>\n",
       "      <th>2</th>\n",
       "      <td>2012-01-03</td>\n",
       "      <td>0.8</td>\n",
       "      <td>11.7</td>\n",
       "      <td>7.2</td>\n",
       "      <td>2.3</td>\n",
       "      <td>rain</td>\n",
       "    </tr>\n",
       "    <tr>\n",
       "      <th>3</th>\n",
       "      <td>2012-01-04</td>\n",
       "      <td>20.3</td>\n",
       "      <td>12.2</td>\n",
       "      <td>5.6</td>\n",
       "      <td>4.7</td>\n",
       "      <td>rain</td>\n",
       "    </tr>\n",
       "    <tr>\n",
       "      <th>4</th>\n",
       "      <td>2012-01-05</td>\n",
       "      <td>1.3</td>\n",
       "      <td>8.9</td>\n",
       "      <td>2.8</td>\n",
       "      <td>6.1</td>\n",
       "      <td>rain</td>\n",
       "    </tr>\n",
       "    <tr>\n",
       "      <th>...</th>\n",
       "      <td>...</td>\n",
       "      <td>...</td>\n",
       "      <td>...</td>\n",
       "      <td>...</td>\n",
       "      <td>...</td>\n",
       "      <td>...</td>\n",
       "    </tr>\n",
       "    <tr>\n",
       "      <th>1456</th>\n",
       "      <td>2015-12-27</td>\n",
       "      <td>8.6</td>\n",
       "      <td>4.4</td>\n",
       "      <td>1.7</td>\n",
       "      <td>2.9</td>\n",
       "      <td>rain</td>\n",
       "    </tr>\n",
       "    <tr>\n",
       "      <th>1457</th>\n",
       "      <td>2015-12-28</td>\n",
       "      <td>1.5</td>\n",
       "      <td>5.0</td>\n",
       "      <td>1.7</td>\n",
       "      <td>1.3</td>\n",
       "      <td>rain</td>\n",
       "    </tr>\n",
       "    <tr>\n",
       "      <th>1458</th>\n",
       "      <td>2015-12-29</td>\n",
       "      <td>0.0</td>\n",
       "      <td>7.2</td>\n",
       "      <td>0.6</td>\n",
       "      <td>2.6</td>\n",
       "      <td>fog</td>\n",
       "    </tr>\n",
       "    <tr>\n",
       "      <th>1459</th>\n",
       "      <td>2015-12-30</td>\n",
       "      <td>0.0</td>\n",
       "      <td>5.6</td>\n",
       "      <td>-1.0</td>\n",
       "      <td>3.4</td>\n",
       "      <td>sun</td>\n",
       "    </tr>\n",
       "    <tr>\n",
       "      <th>1460</th>\n",
       "      <td>2015-12-31</td>\n",
       "      <td>0.0</td>\n",
       "      <td>5.6</td>\n",
       "      <td>-2.1</td>\n",
       "      <td>3.5</td>\n",
       "      <td>sun</td>\n",
       "    </tr>\n",
       "  </tbody>\n",
       "</table>\n",
       "<p>1461 rows × 6 columns</p>\n",
       "</div>"
      ],
      "text/plain": [
       "            date  precipitation  temp_max  temp_min  wind  weather\n",
       "0     2012-01-01            0.0      12.8       5.0   4.7  drizzle\n",
       "1     2012-01-02           10.9      10.6       2.8   4.5     rain\n",
       "2     2012-01-03            0.8      11.7       7.2   2.3     rain\n",
       "3     2012-01-04           20.3      12.2       5.6   4.7     rain\n",
       "4     2012-01-05            1.3       8.9       2.8   6.1     rain\n",
       "...          ...            ...       ...       ...   ...      ...\n",
       "1456  2015-12-27            8.6       4.4       1.7   2.9     rain\n",
       "1457  2015-12-28            1.5       5.0       1.7   1.3     rain\n",
       "1458  2015-12-29            0.0       7.2       0.6   2.6      fog\n",
       "1459  2015-12-30            0.0       5.6      -1.0   3.4      sun\n",
       "1460  2015-12-31            0.0       5.6      -2.1   3.5      sun\n",
       "\n",
       "[1461 rows x 6 columns]"
      ]
     },
     "execution_count": 3,
     "metadata": {},
     "output_type": "execute_result"
    }
   ],
   "source": [
    "df"
   ]
  },
  {
   "cell_type": "code",
   "execution_count": 4,
   "metadata": {},
   "outputs": [],
   "source": [
    "df['date'] = pd.to_datetime(df['date'])"
   ]
  },
  {
   "cell_type": "code",
   "execution_count": 5,
   "metadata": {},
   "outputs": [],
   "source": [
    "df['month'] =  pd.DatetimeIndex(df['date']).month"
   ]
  },
  {
   "cell_type": "code",
   "execution_count": 6,
   "metadata": {},
   "outputs": [],
   "source": [
    "string_month = {1: 'Jan', 2: 'Feb', 3: 'Mar', 4: 'Apr', \n",
    "                5: 'May', 6: 'June', 7:' July', 8: 'Aug',\n",
    "                9: 'Sept', 10: 'Oct', 11: 'Nov', 12: 'Dec'}\n",
    "for i in df.index:\n",
    "    df.loc[i, 'month'] = string_month[df.loc[i, 'month']]"
   ]
  },
  {
   "cell_type": "code",
   "execution_count": 7,
   "metadata": {},
   "outputs": [],
   "source": [
    "df = df.groupby(['month', 'weather']).size().to_frame('size').unstack(fill_value=0).stack()\n"
   ]
  },
  {
   "cell_type": "code",
   "execution_count": 8,
   "metadata": {},
   "outputs": [],
   "source": [
    "df.reset_index(inplace=True)"
   ]
  },
  {
   "cell_type": "code",
   "execution_count": 9,
   "metadata": {},
   "outputs": [
    {
     "data": {
      "image/png": "[encoded data removed]",
      "text/plain": [
       "<Figure size 600x400 with 1 Axes>"
      ]
     },
     "metadata": {
      "needs_background": "light"
     },
     "output_type": "display_data"
    }
   ],
   "source": [
    "fig, ax = plt.subplots(dpi=100)\n",
    "labels = ['Jan', 'Feb', 'Mar', 'Apr', 'May', 'June', 'July', 'Aug', 'Sept', 'Oct', 'Nov', 'Dec']\n",
    "\n",
    "ax.bar(labels, df[df['weather'] == 'sun']['size'], label='sun')\n",
    "ax.bar(labels, df[df['weather'] == 'snow']['size'], label='snow', bottom = np.array(df[df['weather'] == 'sun']['size']))\n",
    "ax.bar(labels, df[df['weather'] == 'rain']['size'], label='rain', bottom = np.array(df[df['weather'] == 'sun']['size']) + np.array(df[df['weather'] == 'snow']['size']))\n",
    "ax.bar(labels, df[df['weather'] == 'fog']['size'], label='fog', bottom = np.array(df[df['weather'] == 'sun']['size']) + np.array(df[df['weather'] == 'snow']['size']) + np.array(df[df['weather'] == 'rain']['size']))\n",
    "ax.bar(labels, df[df['weather'] == 'drizzle']['size'], label='drizzle', bottom = np.array(df[df['weather'] == 'fog']['size']) + np.array(df[df['weather'] == 'sun']['size']) + np.array(df[df['weather'] == 'snow']['size']) + np.array(df[df['weather'] == 'rain']['size']))\n",
    "\n",
    "ax.set_xlabel(\"MONTHS\")\n",
    "ax.set_ylabel(\"COUNT RECORDS\")\n",
    "ax.legend();"
   ]
  },
  {
   "cell_type": "markdown",
   "metadata": {},
   "source": [
    "## Q1: What is the license for the software?\n",
    "\n",
    "The software used here is matplotlib. According to the [matplotlib website](https://matplotlib.org/stable/users/license.html) it falls under the Python Software Foundation (PSF) license. For the person or organization using matplotlib, there is an agreement between the Matplotlib Development Team (MDT) and the individual using this software. It is an open-source library so we are free to analyse, test and contribute to it's development. \n",
    "\n",
    "## Q2: What is the focus of the software?\n",
    "\n",
    "Matplotlib is a software package built on numpy arrays and is easily usable with pandas dataframes in python, as each column is basically a pandas series and can be converted easily to numpy arrays. When converted, they can be easily integrated with matplotlib to generate 2D visualizations. The focus of this software is to use numpy arrays to build visualizations. Since numpy arrays are quite popular in Python, any array needing visualization can be done using matplotlib.\n",
    "\n",
    "## Q3: Does it have interactivity, and how easy is it?\n",
    "The graph generated here does not have interactivity, but matplotlib in general does offer interactivity through it's many functions. All plots are interactive - in the sense the GUI can be used to zoom and pan the graph. But in-depth interactivity such as hovering over to get values is a bit more complicated to integrate and is not available by default. [`matplotlib.plt.ion`](https://matplotlib.org/stable/api/_as_gen/matplotlib.pyplot.ion.html#matplotlib.pyplot.ion) can be used to toggle interactivity on and off.\n",
    "\n",
    "## Q4: What are the pros and cons of using it?\n",
    "Pros:\n",
    "- can be used with a wide variety of packages that integrates numpy arrays into it. Since most packages use numpy arrays, visualizations using matplotlib can be easily done.\n",
    "- pretty straightforward to create basic 2D visualizations\n",
    "\n",
    "Cons:\n",
    "- integrating interactivity beyong the default availble ones is difficult.\n",
    "- does not offer a wide variety of plots that may be complex and it is difficult to adjust the properties of it.\n",
    "- making 3D plots for a wider variety of applications - such as deep learning - is difficult and tedious."
   ]
  },
  {
   "cell_type": "code",
   "execution_count": 10,
   "metadata": {},
   "outputs": [
    {
     "data": {
      "text/plain": [
       "array([10,  3,  6,  8,  3, 17,  1,  6,  5,  9, 19, 14])"
      ]
     },
     "execution_count": 10,
     "metadata": {},
     "output_type": "execute_result"
    }
   ],
   "source": [
    "np.array(df[df['weather'] == 'fog']['size'])"
   ]
  },
  {
   "cell_type": "code",
   "execution_count": null,
   "metadata": {},
   "outputs": [],
   "source": []
  }
 ],
 "metadata": {
  "kernelspec": {
   "display_name": "Python 3",
   "language": "python",
   "name": "python3"
  },
  "language_info": {
   "codemirror_mode": {
    "name": "ipython",
    "version": 3
   },
   "file_extension": ".py",
   "mimetype": "text/x-python",
   "name": "python",
   "nbconvert_exporter": "python",
   "pygments_lexer": "ipython3",
   "version": "3.8.5"
  }
 },
 "nbformat": 4,
 "nbformat_minor": 4
}
